{
 "cells": [
  {
   "cell_type": "markdown",
   "metadata": {},
   "source": [
    "# import"
   ]
  },
  {
   "cell_type": "code",
   "execution_count": 19,
   "metadata": {
    "ExecuteTime": {
     "end_time": "2019-05-10T03:30:02.069970Z",
     "start_time": "2019-05-10T03:30:01.735698Z"
    },
    "code_folding": [],
    "hidden": true,
    "slideshow": {
     "slide_type": "skip"
    }
   },
   "outputs": [],
   "source": [
    "import numpy as np\n",
    "import pandas as pd\n",
    "\n",
    "from Ocab import Ocab, Regexp # https://github.com/boomin614/Ocab\n",
    "from gensim import corpora\n",
    "from gensim.models.ldamodel import LdaModel\n",
    "from gensim.matutils import corpus2dense\n",
    "\n",
    "import matplotlib.pyplot as plt\n",
    "from matplotlib.backends.backend_pdf import PdfPages\n",
    "from wordcloud import WordCloud"
   ]
  },
  {
   "cell_type": "markdown",
   "metadata": {},
   "source": [
    "# 関数などの定義"
   ]
  },
  {
   "cell_type": "code",
   "execution_count": 20,
   "metadata": {
    "ExecuteTime": {
     "end_time": "2019-05-10T03:30:03.348118Z",
     "start_time": "2019-05-10T03:30:03.302065Z"
    },
    "code_folding": [],
    "hidden": true,
    "slideshow": {
     "slide_type": "skip"
    }
   },
   "outputs": [],
   "source": [
    "# bigquery\n",
    "project_id = \"your_GCP_project_id\"\n",
    "private_key = \"path_to_your_private_key\"\n",
    "\n",
    "# Ocabクラスの形態素解析用インスタンスを作成。\n",
    "replace_rule = {\n",
    "    '名詞': {\n",
    "        '非自立': \"\",\n",
    "        '固有名詞': {\n",
    "            '人名': \"\",\n",
    "            '地域': \"{地名}\"\n",
    "        }\n",
    "    }\n",
    "}\n",
    "ocab = Ocab(\n",
    "    opO=\"-Ochasen -u /root/work/pstack/ppp/utils/mecab_user_dic.dic\",\n",
    "    target=[\"名詞\", \"形容詞\", \"形容動詞\", \"動詞\"], replace_rule=replace_rule)\n",
    "\n",
    "c = Regexp()\n",
    "\n",
    "def tokenize_text(text):\n",
    "    text = str(text)\n",
    "    text = text.replace(\"\\n\",\"。\") + \"。\"\n",
    "    text = text.replace(\"。+\",\"。\")\n",
    "    text = c.normalize(text)\n",
    "    text = ocab.wakati(text)\n",
    "    if type(text) != type(\"\"):\n",
    "        text = \"\"\n",
    "    text = ocab.removeStoplist(text, [])\n",
    "    \n",
    "    return text.split()"
   ]
  },
  {
   "cell_type": "code",
   "execution_count": 21,
   "metadata": {
    "ExecuteTime": {
     "end_time": "2019-05-10T03:30:04.939337Z",
     "start_time": "2019-05-10T03:30:04.802293Z"
    }
   },
   "outputs": [],
   "source": [
    "def get_word_cloud(pdf_path, lda, nrows, ncols, figsize, dpi=150):\n",
    "    # pdfにエクスポートして、notebookには作図しない。\n",
    "    wc = WordCloud(font_path='/usr/share/fonts/truetype/takao-gothic/TakaoGothic.ttf')\n",
    "    pdf = PdfPages(pdf_path)\n",
    "    fig, axes = plt.subplots(nrows=nrows, ncols=ncols, figsize=figsize, dpi=dpi)\n",
    "\n",
    "    for k, ax in enumerate(axes.flat):\n",
    "        topic_word_freq = dict(lda.show_topic(k, 100))\n",
    "        wc_plt = wc.generate_from_frequencies(topic_word_freq)\n",
    "        ax.imshow(wc_plt, interpolation='bilinear')\n",
    "        ax.axis(\"off\")\n",
    "        ax.set_title(\"トピック{} ワードクラウド\".format(k))\n",
    "\n",
    "    fig.tight_layout()\n",
    "    pdf.savefig()\n",
    "    pdf.close()\n",
    "    fig.clf()\n",
    "\n",
    "def get_km_distortion(k, X):\n",
    "    km = KMeans(n_clusters=k, random_state=0, n_jobs=1)\n",
    "    km.fit(X)\n",
    "    return km.inertia_"
   ]
  },
  {
   "cell_type": "markdown",
   "metadata": {},
   "source": [
    "# テキストデータ準備"
   ]
  },
  {
   "cell_type": "code",
   "execution_count": 43,
   "metadata": {
    "code_folding": [],
    "slideshow": {
     "slide_type": "skip"
    }
   },
   "outputs": [],
   "source": [
    "query = \"query_string\"\n",
    "res = pd.read_gbq(query, project_id=project_id, private_key=private_key,dialect='standard')\n",
    "res.to_csv(\"text_file.txt\", index=False)"
   ]
  },
  {
   "cell_type": "markdown",
   "metadata": {
    "slideshow": {
     "slide_type": "subslide"
    }
   },
   "source": [
    "# gensim"
   ]
  },
  {
   "cell_type": "markdown",
   "metadata": {},
   "source": [
    "## create dictionary"
   ]
  },
  {
   "cell_type": "code",
   "execution_count": 6,
   "metadata": {
    "code_folding": []
   },
   "outputs": [],
   "source": [
    "texts = (tokenize_text(line) for line in open('text_file.txt'))\n",
    "dic = corpora.Dictionary(texts)\n",
    "noise_words = [\n",
    "    'Д','o','w','m','ー','ω','xE','艸','д','いたす','v','とる','ちゃう','いう','言う','頂ける','会意','下さる','けす',\n",
    "    '模試','笑笑','よい','ょ','ゎ','⁾⁾','える','致す','k','ら'\n",
    "]\n",
    "noise_ids = [dic.token2id[word] \n",
    "             for word in noise_words \n",
    "             if word in dic.token2id]\n",
    "\n",
    "dic.filter_tokens(bad_ids=noise_ids)\n",
    "dic.filter_extremes(no_below=30, no_above=0.30)\n",
    "dic.save(\"./model_gensim/vocab.dict\")"
   ]
  },
  {
   "cell_type": "markdown",
   "metadata": {},
   "source": [
    "## メモリに優しいbowイテレータを作成"
   ]
  },
  {
   "cell_type": "code",
   "execution_count": 8,
   "metadata": {},
   "outputs": [],
   "source": [
    "class Corpus2bow(object):\n",
    "    def __init__(self, file_path):\n",
    "        self.file_path = file_path\n",
    "    \n",
    "    def __iter__(self):\n",
    "        for line in open(self.file_path):\n",
    "            yield dic.doc2bow(tokenize_text(line))\n",
    "\n",
    "corpus = Corpus2bow(\"text_file.txt\")"
   ]
  },
  {
   "cell_type": "markdown",
   "metadata": {},
   "source": [
    "## train lda"
   ]
  },
  {
   "cell_type": "code",
   "execution_count": null,
   "metadata": {},
   "outputs": [],
   "source": [
    "lda = LdaModel(corpus=corpus, num_topics=30, id2word=dic) # 任意のトピック数を指定\n",
    "lda.save(\"./model_gensim/model.lda\")"
   ]
  },
  {
   "cell_type": "markdown",
   "metadata": {},
   "source": [
    "## ワードクラウドで評価\n",
    "トピックの特性をワードクラウドで確認し、トピック数の妥当性を検討します。"
   ]
  },
  {
   "cell_type": "code",
   "execution_count": 9,
   "metadata": {
    "code_folding": [],
    "slideshow": {
     "slide_type": "skip"
    }
   },
   "outputs": [
    {
     "name": "stdout",
     "output_type": "stream",
     "text": [
      "CPU times: user 10.9 s, sys: 1.72 s, total: 12.6 s\n",
      "Wall time: 11.3 s\n"
     ]
    },
    {
     "data": {
      "text/plain": [
       "<matplotlib.figure.Figure at 0x7f03b94151d0>"
      ]
     },
     "metadata": {},
     "output_type": "display_data"
    }
   ],
   "source": [
    "%%time\n",
    "get_word_cloud('./interpret/lda_wcloud.pdf', lda, nrows=10, ncols=2, figsize=(10,30), dpi=150)"
   ]
  }
 ],
 "metadata": {
  "hide_input": false,
  "kernelspec": {
   "display_name": "Python 3",
   "language": "python",
   "name": "python3"
  },
  "language_info": {
   "codemirror_mode": {
    "name": "ipython",
    "version": 3
   },
   "file_extension": ".py",
   "mimetype": "text/x-python",
   "name": "python",
   "nbconvert_exporter": "python",
   "pygments_lexer": "ipython3",
   "version": "3.6.2"
  },
  "toc": {
   "base_numbering": 1,
   "nav_menu": {},
   "number_sections": true,
   "sideBar": true,
   "skip_h1_title": false,
   "title_cell": "table_of_contents",
   "title_sidebar": "Contents",
   "toc_cell": false,
   "toc_position": {
    "height": "calc(100% - 180px)",
    "left": "10px",
    "top": "150px",
    "width": "382px"
   },
   "toc_section_display": true,
   "toc_window_display": true
  }
 },
 "nbformat": 4,
 "nbformat_minor": 2
}
